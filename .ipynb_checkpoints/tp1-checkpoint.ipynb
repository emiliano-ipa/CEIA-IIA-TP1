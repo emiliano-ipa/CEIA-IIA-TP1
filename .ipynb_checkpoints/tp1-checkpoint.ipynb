{
 "cells": [
  {
   "cell_type": "markdown",
   "metadata": {},
   "source": [
    "#CEIA - IIA - Trabajo Practico 1 - Torres de Hanoi\n",
    "\n",
    "##Grupo X - \n",
    "### Miembros:\n",
    "  - Martin Brocca"
   ]
  },
  {
   "cell_type": "markdown",
   "metadata": {
    "vscode": {
     "languageId": "plaintext"
    }
   },
   "source": [
    "1. ¿Cuáles son los PEAS de este problema? (Performance, Environment, Actuators, Sensors)\n"
   ]
  },
  {
   "cell_type": "markdown",
   "metadata": {},
   "source": [
    "2. ¿Cuáles son las propiedades del entorno de trabajo?\n"
   ]
  },
  {
   "cell_type": "markdown",
   "metadata": {},
   "source": [
    "3. En el contexto de este problema, establezca cuáles son los: estado, espacio de estados, árbol de búsqueda, \n",
    "nodo de búsqueda, objetivo, acción y frontera.\n"
   ]
  },
  {
   "cell_type": "markdown",
   "metadata": {},
   "source": [
    "4. Implemente algún método de búsqueda. Puedes elegir cualquiera menos búsqueda en anchura primero (el desarrollado \n",
    "en clase). Sos libre de elegir cualquiera de los vistos en clases, o inclusive buscar nuevos.\n"
   ]
  },
  {
   "cell_type": "markdown",
   "metadata": {},
   "source": [
    "5. ¿Qué complejidad en tiempo y memoria tiene el algoritmo elegido? \n"
   ]
  },
  {
   "cell_type": "markdown",
   "metadata": {
    "vscode": {
     "languageId": "plaintext"
    }
   },
   "source": [
    "6. A nivel implementación, ¿qué tiempo y memoria ocupa el algoritmo? (Se recomienda correr 10 veces y calcular \n",
    "promedio y desvío estándar de las métricas).\n"
   ]
  },
  {
   "cell_type": "markdown",
   "metadata": {},
   "source": [
    "7. Si la solución óptima es $2^k - 1$ movimientos con *k* igual al número de discos. Qué tan lejos está la solución \n",
    "del algoritmo implementado de esta solución óptima (se recomienda correr al menos 10 veces y usar el promedio de \n",
    "trayecto usado). "
   ]
  },
  {
   "cell_type": "markdown",
   "metadata": {
    "vscode": {
     "languageId": "plaintext"
    }
   },
   "source": [
    "## Resolucion del problema"
   ]
  },
  {
   "cell_type": "code",
   "execution_count": null,
   "metadata": {},
   "outputs": [],
   "source": [
    "# importar librerias requeridas\n",
    "from aima_libs.tree_hanoi import NodeHanoi\n"
   ]
  },
  {
   "cell_type": "code",
   "execution_count": null,
   "metadata": {},
   "outputs": [],
   "source": [
    "# Solucion provista por el profesor:\n",
    "\n",
    "def breadth_first_search(number_disks=5):\n",
    "    # Inicializamos el problema\n",
    "    list_disks = [i for i in range(5, 0, -1)]\n",
    "    initial_state = StatesHanoi(list_disks, [], [], max_disks=number_disks)\n",
    "    goal_state = StatesHanoi([], [], list_disks, max_disks=number_disks)\n",
    "    problem = ProblemHanoi(initial=initial_state, goal=goal_state)\n",
    "\n",
    "    # Creamos una cola FIFO con el nodo inicial\n",
    "    frontier = [NodeHanoi(problem.initial)]  \n",
    "\n",
    "    # Creamos el set con estados ya visitados\n",
    "    explored = set()\n",
    "    \n",
    "    node_explored = 0\n",
    "    \n",
    "    while len(frontier) != 0:\n",
    "        node = frontier.pop()\n",
    "        node_explored += 1\n",
    "        \n",
    "        # Agregamos el estado del nodo al set. Esto evita guardar duplicados, porque set nunca tiene elementos repetidos\n",
    "        explored.add(node.state)\n",
    "        \n",
    "        if problem.goal_test(node.state):  # Comprobamos si hemos alcanzado el estado objetivo\n",
    "            metrics = {\n",
    "                \"solution_found\": True,\n",
    "                \"nodes_explored\": node_explored,\n",
    "                \"states_visited\": len(explored),\n",
    "                \"nodes_in_frontier\": len(frontier),\n",
    "                \"max_depth\": node.depth,\n",
    "                \"cost_total\": node.state.accumulated_cost,\n",
    "            }\n",
    "            return node, metrics\n",
    "        \n",
    "        # Agregamos a la cola todos los nodos sucesores del nodo actual\n",
    "        for next_node in node.expand(problem):\n",
    "            # Solo si el estado del nodo no fue explorado\n",
    "            if next_node.state not in explored:\n",
    "                frontier.insert(0, next_node)\n",
    "\n",
    "    # Si no se encontro la solución, devolvemos la métricas igual\n",
    "    metrics = {\n",
    "        \"solution_found\": False,\n",
    "        \"nodes_explored\": node_explored,\n",
    "        \"states_visited\": len(explored),\n",
    "        \"nodes_in_frontier\": len(frontier),\n",
    "        \"max_depth\": node.depth, # OBS: Si no se encontró la solución, este valor solo tiene sentido en breadth_first_search, en otros casos se debe ir llevando registro de cual fue la máxima profundidad\n",
    "        \"cost_total\": None,\n",
    "    }\n",
    "    return None, metrics"
   ]
  },
  {
   "cell_type": "code",
   "execution_count": null,
   "metadata": {},
   "outputs": [],
   "source": [
    "## Implementaion busqueda en profundidad"
   ]
  },
  {
   "cell_type": "code",
   "execution_count": null,
   "metadata": {},
   "outputs": [],
   "source": [
    "# Solucion provista por el profesor:\n",
    "\n",
    "def deep_first_search(initial_state, goal_state number_disks=5):\n",
    "    # Inicializamos el problema\n",
    "    list_disks = [i for i in range(5, 0, -1)]\n",
    "    #initial_state = StatesHanoi(list_disks, [], [], max_disks=number_disks)\n",
    "    #goal_state = StatesHanoi([], [], list_disks, max_disks=number_disks)\n",
    "    problem = ProblemHanoi(initial=initial_state, goal=goal_state)\n",
    "\n",
    "    # Creamos una cola FIFO con el nodo inicial\n",
    "    frontier = [NodeHanoi(problem.initial)]  \n",
    "\n",
    "    # Creamos el set con estados ya visitados\n",
    "    explored = set()\n",
    "    \n",
    "    node_explored = 0\n",
    "    \n",
    "    while len(frontier) != 0:\n",
    "        node = frontier.pop()\n",
    "        node_explored += 1\n",
    "        \n",
    "        # Agregamos el estado del nodo al set. Esto evita guardar duplicados, porque set nunca tiene elementos repetidos\n",
    "        explored.add(node.state)\n",
    "        \n",
    "        if problem.goal_test(node.state):  # Comprobamos si hemos alcanzado el estado objetivo\n",
    "            metrics = {\n",
    "                \"solution_found\": True,\n",
    "                \"nodes_explored\": node_explored,\n",
    "                \"states_visited\": len(explored),\n",
    "                \"nodes_in_frontier\": len(frontier),\n",
    "                \"max_depth\": node.depth,\n",
    "                \"cost_total\": node.state.accumulated_cost,\n",
    "            }\n",
    "            return node, metrics\n",
    "        \n",
    "        # Agregamos a la cola todos los nodos sucesores del nodo actual\n",
    "        for next_node in node.expand(problem):\n",
    "            # Solo si el estado del nodo no fue explorado\n",
    "            if next_node.state not in explored:\n",
    "                frontier.insert(0, next_node)\n",
    "\n",
    "    # Si no se encontro la solución, devolvemos la métricas igual\n",
    "    metrics = {\n",
    "        \"solution_found\": False,\n",
    "        \"nodes_explored\": node_explored,\n",
    "        \"states_visited\": len(explored),\n",
    "        \"nodes_in_frontier\": len(frontier),\n",
    "        \"max_depth\": node.depth, # OBS: Si no se encontró la solución, este valor solo tiene sentido en breadth_first_search, en otros casos se debe ir llevando registro de cual fue la máxima profundidad\n",
    "        \"cost_total\": None,\n",
    "    }\n",
    "    return None, metrics"
   ]
  }
 ],
 "metadata": {
  "language_info": {
   "name": "python"
  }
 },
 "nbformat": 4,
 "nbformat_minor": 2
}
