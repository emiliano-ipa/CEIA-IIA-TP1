{
 "cells": [
  {
   "cell_type": "markdown",
   "metadata": {},
   "source": [
    "#CEIA - IIA - Trabajo Practico 1 - Torres de Hanoi\n",
    "\n",
    "##Grupo 1 - \n",
    "### Miembros:\n",
    "- Martín Brocca <martinbrocca@gmail.com>\n",
    "- Emiliano Iparraguirre <emiliano.iparraguirre22@gmail.com>\n",
    "- Natalia Espector <nataliaespector@gmail.com>\n",
    "- Agustín Lopez Fredes <agustin.lopezfredes@gmail.com>\n",
    "- Fernando Martinez <fgmartinez1989@gmail.com>"
   ]
  },
  {
   "cell_type": "markdown",
   "metadata": {
    "vscode": {
     "languageId": "plaintext"
    }
   },
   "source": [
    "## Resolucion del problema"
   ]
  },
  {
   "cell_type": "code",
   "execution_count": 2,
   "metadata": {},
   "outputs": [],
   "source": [
    "# importar librerias requeridas\n",
    "from aima_libs.tree_hanoi import NodeHanoi\n",
    "from aima_libs.hanoi_states import StatesHanoi\n",
    "from aima_libs.hanoi_states import ProblemHanoi\n",
    "import heapq\n",
    "from tabulate import tabulate"
   ]
  },
  {
   "cell_type": "markdown",
   "metadata": {},
   "source": [
    "### Búsqueda en anchura, vista en clase:"
   ]
  },
  {
   "cell_type": "code",
   "execution_count": 3,
   "metadata": {},
   "outputs": [],
   "source": [
    "# Solucion provista por el profesor:\n",
    "\n",
    "def breadth_first_search(number_disks=5):\n",
    "    # Inicializamos el problema\n",
    "    list_disks = [i for i in range(number_disks, 0, -1)]\n",
    "    initial_state = StatesHanoi(list_disks, [], [], max_disks=number_disks)\n",
    "    goal_state = StatesHanoi([], [], list_disks, max_disks=number_disks)\n",
    "    problem = ProblemHanoi(initial=initial_state, goal=goal_state)\n",
    "\n",
    "    # Creamos una cola FIFO con el nodo inicial\n",
    "    frontier = [NodeHanoi(problem.initial)]  \n",
    "\n",
    "    # Creamos el set con estados ya visitados\n",
    "    explored = set()\n",
    "    \n",
    "    node_explored = 0\n",
    "    \n",
    "    while len(frontier) != 0:\n",
    "        node = frontier.pop()\n",
    "        node_explored += 1\n",
    "        \n",
    "        # Agregamos el estado del nodo al set. Esto evita guardar duplicados, porque set nunca tiene elementos repetidos\n",
    "        explored.add(node.state)\n",
    "        \n",
    "        if problem.goal_test(node.state):  # Comprobamos si hemos alcanzado el estado objetivo\n",
    "            metrics = {\n",
    "                \"solution_found\": True,\n",
    "                \"nodes_explored\": node_explored,\n",
    "                \"states_visited\": len(explored),\n",
    "                \"nodes_in_frontier\": len(frontier),\n",
    "                \"max_depth\": node.depth,\n",
    "                \"cost_total\": node.state.accumulated_cost,\n",
    "            }\n",
    "            return node, metrics\n",
    "        \n",
    "        # Agregamos a la cola todos los nodos sucesores del nodo actual\n",
    "        for next_node in node.expand(problem):\n",
    "            # Solo si el estado del nodo no fue explorado\n",
    "            if next_node.state not in explored:\n",
    "                frontier.insert(0, next_node)\n",
    "\n",
    "    # Si no se encontro la solución, devolvemos la métricas igual\n",
    "    metrics = {\n",
    "        \"solution_found\": False,\n",
    "        \"nodes_explored\": node_explored,\n",
    "        \"states_visited\": len(explored),\n",
    "        \"nodes_in_frontier\": len(frontier),\n",
    "        \"max_depth\": node.depth, # OBS: Si no se encontró la solución, este valor solo tiene sentido en breadth_first_search, en otros casos se debe ir llevando registro de cual fue la máxima profundidad\n",
    "        \"cost_total\": None,\n",
    "    }\n",
    "    return None, metrics"
   ]
  },
  {
   "cell_type": "markdown",
   "metadata": {},
   "source": [
    "### Implementación búsqueda en profundidad"
   ]
  },
  {
   "cell_type": "code",
   "execution_count": 4,
   "metadata": {},
   "outputs": [],
   "source": [
    "# Solucion provista primero en profundidad (basica):\n",
    "\n",
    "def depth_first_search(number_disks=5):\n",
    "    # Inicializamos el problema\n",
    "    list_disks = [i for i in range(number_disks, 0, -1)]\n",
    "    initial_state = StatesHanoi(list_disks, [], [], max_disks=number_disks)\n",
    "    goal_state = StatesHanoi([], [], list_disks, max_disks=number_disks)\n",
    "    problem = ProblemHanoi(initial=initial_state, goal=goal_state)\n",
    "\n",
    "    # Creamos una cola LIFO con el nodo inicial\n",
    "    frontier = [NodeHanoi(problem.initial)]  \n",
    "\n",
    "    # Creamos el set con estados ya visitados\n",
    "    explored = set()\n",
    "    \n",
    "    node_explored = 0\n",
    "    \n",
    "    while len(frontier) != 0:\n",
    "        node = frontier.pop()\n",
    "        node_explored += 1\n",
    "        \n",
    "        # Agregamos el estado del nodo al set. Esto evita guardar duplicados, porque set nunca tiene elementos repetidos\n",
    "        explored.add(node.state)\n",
    "        \n",
    "        if problem.goal_test(node.state):  # Comprobamos si hemos alcanzado el estado objetivo\n",
    "            metrics = {\n",
    "                \"solution_found\": True,\n",
    "                \"nodes_explored\": node_explored,\n",
    "                \"states_visited\": len(explored),\n",
    "                \"nodes_in_frontier\": len(frontier),\n",
    "                \"max_depth\": node.depth,\n",
    "                \"cost_total\": node.state.accumulated_cost,\n",
    "            }\n",
    "            return node, metrics\n",
    "        \n",
    "        # Agregamos a la cola todos los nodos sucesores del nodo actual\n",
    "        for next_node in node.expand(problem):\n",
    "            # Solo si el estado del nodo no fue explorado\n",
    "            if next_node.state not in explored:\n",
    "                frontier.append(next_node)\n",
    "\n",
    "    # Si no se encontro la solución, devolvemos la métricas igual\n",
    "    metrics = {\n",
    "        \"solution_found\": False,\n",
    "        \"nodes_explored\": node_explored,\n",
    "        \"states_visited\": len(explored),\n",
    "        \"nodes_in_frontier\": len(frontier),\n",
    "        \"max_depth\": node.depth, # OBS: Si no se encontró la solución, este valor solo tiene sentido en breadth_first_search, en otros casos se debe ir llevando registro de cual fue la máxima profundidad\n",
    "        \"cost_total\": None,\n",
    "    }\n",
    "    return None, metrics"
   ]
  },
  {
   "cell_type": "markdown",
   "metadata": {},
   "source": [
    "### Implementación búsqueda en profundidad optimizado de manera que no mueva dos veces seguida la misma pieza"
   ]
  },
  {
   "cell_type": "code",
   "execution_count": 5,
   "metadata": {},
   "outputs": [],
   "source": [
    "# En esta version del algoritmo miro hacia adelante el proximo paso, y me aseguro que no mueva la pieza que moví recien:\n",
    "# Se aprovecha la librería hanoi_states library para analizar el movimiento.\n",
    "\n",
    "from aima_libs.tree_hanoi import NodeHanoi\n",
    "from aima_libs.hanoi_states import StatesHanoi, ActionHanoi, ProblemHanoi\n",
    "\n",
    "def depth_first_search_smart(number_disks=5):\n",
    "    # Hanoi problem definition and initialization\n",
    "    list_disks = [i for i in range(number_disks, 0, -1)]\n",
    "    initial_state = StatesHanoi(list_disks, [], [], max_disks=number_disks)\n",
    "    goal_state = StatesHanoi([], [], list_disks, max_disks=number_disks)\n",
    "    problem = ProblemHanoi(initial=initial_state, goal=goal_state)\n",
    "\n",
    "    # LIFO queue with initial node inside\n",
    "    frontier = [NodeHanoi(problem.initial)]  \n",
    "\n",
    "    # Set for visited states\n",
    "    explored = set()\n",
    "    \n",
    "    node_explored = 0\n",
    "    \n",
    "    while frontier:\n",
    "        node = frontier.pop()\n",
    "        node_explored += 1\n",
    "        \n",
    "        # Add the state to the explored set to avoid duplicates\n",
    "        explored.add(node.state)\n",
    "        \n",
    "        if problem.goal_test(node.state):  # Have we reached the goal?\n",
    "            metrics = {\n",
    "                \"solution_found\": True,\n",
    "                \"nodes_explored\": node_explored,\n",
    "                \"states_visited\": len(explored),\n",
    "                \"nodes_in_frontier\": len(frontier),\n",
    "                \"max_depth\": node.depth,\n",
    "                \"cost_total\": node.state.accumulated_cost,\n",
    "            }\n",
    "            return node, metrics\n",
    "        \n",
    "        # Expand the node and filter successors\n",
    "        for next_node in node.expand(problem):\n",
    "            if next_node.state not in explored:\n",
    "                # Avoid moving the same disk as in the previous step\n",
    "                if not is_same_disk_moved(node, next_node):\n",
    "                    frontier.append(next_node)\n",
    "\n",
    "    # If no solution is found, return metrics\n",
    "    metrics = {\n",
    "        \"solution_found\": False,\n",
    "        \"nodes_explored\": node_explored,\n",
    "        \"states_visited\": len(explored),\n",
    "        \"nodes_in_frontier\": len(frontier),\n",
    "        \"max_depth\": node.depth if frontier else 0, \n",
    "        \"cost_total\": None,\n",
    "    }\n",
    "    return None, metrics\n",
    "\n",
    "def is_same_disk_moved(current_node: NodeHanoi, next_node: NodeHanoi) -> bool:\n",
    "    \"\"\"\n",
    "    Check if the same disk was moved in the current and next nodes.\n",
    "    Returns True if the same disk is moved, False otherwise.\n",
    "    \"\"\"\n",
    "    if current_node.parent is None:  # Root node has no previous move\n",
    "        return False\n",
    "    \n",
    "    # Get the disk moved in the current node (from its action)\n",
    "    last_action = current_node.action\n",
    "    if last_action is None or last_action.disk is None:\n",
    "        return False\n",
    "    last_moved_disk = last_action.disk\n",
    "    \n",
    "    # Get the disk moved in the next node (from its action)\n",
    "    next_action = next_node.action\n",
    "    if next_action is None or next_action.disk is None:\n",
    "        return False\n",
    "    next_moved_disk = next_action.disk\n",
    "    \n",
    "    return last_moved_disk == next_moved_disk"
   ]
  },
  {
   "cell_type": "markdown",
   "metadata": {},
   "source": [
    "### Implementaión búsqueda Greedy"
   ]
  },
  {
   "cell_type": "code",
   "execution_count": 6,
   "metadata": {},
   "outputs": [],
   "source": [
    "def heuristica(state, goal_state):\n",
    "    # Contar cuántos discos aún no están en las torres destino (rods[1] y rods[2])\n",
    "    goal_disks = set(goal_state.rods[1] + goal_state.rods[2])\n",
    "    return sum(1 for rod in state.rods[:2] for disk in rod if disk not in goal_disks)"
   ]
  },
  {
   "cell_type": "code",
   "execution_count": 7,
   "metadata": {},
   "outputs": [],
   "source": [
    "def busqueda_greedy(number_disks=5):\n",
    "    list_disks = [i for i in range(number_disks, 0, -1)]\n",
    "    initial_state = StatesHanoi(list_disks, [], [], max_disks=number_disks)\n",
    "    goal_state = StatesHanoi([], [], list_disks, max_disks=number_disks)\n",
    "    problem = ProblemHanoi(initial=initial_state, goal=goal_state)\n",
    "    \n",
    "    frontier = []\n",
    "    heapq.heappush(frontier, (0, NodeHanoi(problem.initial)))  # (priority, node)\n",
    "    explored = set()\n",
    "    \n",
    "    node_explored = 0\n",
    "    \n",
    "    while frontier:\n",
    "        _, node = heapq.heappop(frontier)\n",
    "        node_explored += 1\n",
    "        \n",
    "        if problem.goal_test(node.state):\n",
    "            metrics = {\n",
    "                \"solution_found\": True,\n",
    "                \"nodes_explored\": node_explored,\n",
    "                \"states_visited\": len(explored),\n",
    "                \"nodes_in_frontier\": len(frontier),\n",
    "                \"max_depth\": node.depth,\n",
    "                \"cost_total\": node.state.accumulated_cost,\n",
    "            }\n",
    "            return node, metrics\n",
    "        \n",
    "        explored.add(node.state)\n",
    "        \n",
    "        for next_node in node.expand(problem):\n",
    "            if next_node.state not in explored:\n",
    "                valor_heuristica = heuristica(next_node.state, goal_state)\n",
    "                heapq.heappush(frontier, (valor_heuristica, next_node))\n",
    "    \n",
    "    metrics = {\n",
    "        \"solution_found\": False,\n",
    "        \"nodes_explored\": node_explored,\n",
    "        \"states_visited\": len(explored),\n",
    "        \"nodes_in_frontier\": len(frontier),\n",
    "        \"max_depth\": node.depth,\n",
    "        \"cost_total\": None,\n",
    "    }\n",
    "    return None, metrics"
   ]
  },
  {
   "cell_type": "markdown",
   "metadata": {},
   "source": [
    "### Implementaión búsqueda A<sup>*</sup>"
   ]
  },
  {
   "cell_type": "code",
   "execution_count": 8,
   "metadata": {},
   "outputs": [],
   "source": [
    "def heuristica(state, goal_state):\n",
    "    # Contar cuántos discos aún no están en las torres destino (rods[1] y rods[2])\n",
    "    goal_disks = set(goal_state.rods[1] + goal_state.rods[2])\n",
    "    return sum(1 for rod in state.rods[:2] for disk in rod if disk not in goal_disks)\n",
    "\n",
    "\n",
    "\n",
    "def busqueda_a_estrella(number_disks=5):\n",
    "    list_disks = [i for i in range(number_disks, 0, -1)]\n",
    "    initial_state = StatesHanoi(list_disks, [], [], max_disks=number_disks)\n",
    "    goal_state = StatesHanoi([], [], list_disks, max_disks=number_disks)\n",
    "    problem = ProblemHanoi(initial=initial_state, goal=goal_state)\n",
    "    \n",
    "    frontier = []\n",
    "    heapq.heappush(frontier, (0, NodeHanoi(problem.initial)))  # (priority, node)\n",
    "    explored = set()\n",
    "    \n",
    "    node_explored = 0\n",
    "    \n",
    "    while frontier:\n",
    "        _, node = heapq.heappop(frontier)\n",
    "        node_explored += 1\n",
    "        \n",
    "        if problem.goal_test(node.state):\n",
    "            metrics = {\n",
    "                \"solution_found\": True,\n",
    "                \"nodes_explored\": node_explored,\n",
    "                \"states_visited\": len(explored),\n",
    "                \"nodes_in_frontier\": len(frontier),\n",
    "                \"max_depth\": node.depth,\n",
    "                \"cost_total\": node.state.accumulated_cost,\n",
    "            }\n",
    "            return node, metrics\n",
    "        \n",
    "        explored.add(node.state)\n",
    "        \n",
    "        for next_node in node.expand(problem):\n",
    "            if next_node.state not in explored:\n",
    "                costo = next_node.state.accumulated_cost\n",
    "                valor_heuristica = heuristica(next_node.state, goal_state)\n",
    "                f = costo + valor_heuristica\n",
    "                heapq.heappush(frontier, (f, next_node))\n",
    "    \n",
    "    metrics = {\n",
    "        \"solution_found\": False,\n",
    "        \"nodes_explored\": node_explored,\n",
    "        \"states_visited\": len(explored),\n",
    "        \"nodes_in_frontier\": len(frontier),\n",
    "        \"max_depth\": node.depth,\n",
    "        \"cost_total\": None,\n",
    "    }\n",
    "    return None, metrics\n"
   ]
  },
  {
   "cell_type": "markdown",
   "metadata": {},
   "source": [
    "## Pruebas de ejecucion:"
   ]
  },
  {
   "cell_type": "code",
   "execution_count": 9,
   "metadata": {},
   "outputs": [],
   "source": [
    "solution_anchura, metrics_anchura = breadth_first_search(number_disks=5)"
   ]
  },
  {
   "cell_type": "code",
   "execution_count": 10,
   "metadata": {},
   "outputs": [],
   "source": [
    "solution_prof, metrics_prof = depth_first_search(number_disks=5)"
   ]
  },
  {
   "cell_type": "code",
   "execution_count": 11,
   "metadata": {},
   "outputs": [],
   "source": [
    "solution_prof_smart, metrics_prof_smart = depth_first_search_smart(number_disks=5)"
   ]
  },
  {
   "cell_type": "code",
   "execution_count": 12,
   "metadata": {},
   "outputs": [],
   "source": [
    "solution_greedy, metrics_greedy = busqueda_greedy(number_disks=5)"
   ]
  },
  {
   "cell_type": "code",
   "execution_count": 13,
   "metadata": {},
   "outputs": [],
   "source": [
    "solution_a_estrella, metrics_a_estrella = busqueda_a_estrella(number_disks=5)"
   ]
  },
  {
   "cell_type": "markdown",
   "metadata": {},
   "source": [
    "## Visualización de los resultados"
   ]
  },
  {
   "cell_type": "code",
   "execution_count": 14,
   "metadata": {},
   "outputs": [
    {
     "name": "stdout",
     "output_type": "stream",
     "text": [
      "+------------------------------+------------------+------------------+------------------+---------------------+-------------+--------------+\n",
      "| Run                          | solution_found   |   nodes_explored |   states_visited |   nodes_in_frontier |   max_depth |   cost_total |\n",
      "+==============================+==================+==================+==================+=====================+=============+==============+\n",
      "| Búsqueda en Anchura          | True             |             1351 |              233 |                 285 |          31 |           31 |\n",
      "+------------------------------+------------------+------------------+------------------+---------------------+-------------+--------------+\n",
      "| Búsqueda en Profundidad      | True             |              122 |              122 |                  63 |         121 |          121 |\n",
      "+------------------------------+------------------+------------------+------------------+---------------------+-------------+--------------+\n",
      "| Búsqueda en Profundidad opt. | True             |               82 |               82 |                  41 |          81 |           81 |\n",
      "+------------------------------+------------------+------------------+------------------+---------------------+-------------+--------------+\n",
      "| Búsqueda Greedy              | True             |              377 |              231 |                  51 |          31 |           31 |\n",
      "+------------------------------+------------------+------------------+------------------+---------------------+-------------+--------------+\n",
      "| Búsqueda A*                  | True             |              382 |              215 |                  45 |          31 |           31 |\n",
      "+------------------------------+------------------+------------------+------------------+---------------------+-------------+--------------+\n"
     ]
    }
   ],
   "source": [
    "#crear un arreglo de metricas para generar una sola tabla\n",
    "all_metrics = [metrics_anchura, metrics_prof, metrics_prof_smart, metrics_greedy, metrics_a_estrella]\n",
    "\n",
    "# Encabezado de la tabla:\n",
    "headers = list(metrics_anchura.keys())\n",
    "\n",
    "# Datos de la tabla - En cada fila van los valores de una metrica del diccionario\n",
    "table_data = [[metrics[i] for i in headers] for metrics in all_metrics]\n",
    "\n",
    "# Agrego las filas con los nombres de las variables (optional)\n",
    "row_labels = [\"Búsqueda en Anchura\", \"Búsqueda en Profundidad\", \"Búsqueda en Profundidad opt.\", \"Búsqueda Greedy\", \"Búsqueda A*\"]\n",
    "table_data_with_labels = [[label] + row for label, row in zip(row_labels, table_data)]\n",
    "\n",
    "# Print table with row labels\n",
    "print(tabulate(table_data_with_labels, headers=[\"Run\"] + headers, tablefmt=\"grid\"))"
   ]
  },
  {
   "cell_type": "markdown",
   "metadata": {},
   "source": [
    "## Impresión de soluciones y caminos"
   ]
  },
  {
   "cell_type": "code",
   "execution_count": 15,
   "metadata": {},
   "outputs": [
    {
     "name": "stdout",
     "output_type": "stream",
     "text": [
      "<Node HanoiState: 5 4 3 2 1 |  | >\n",
      "<Node HanoiState: 5 4 3 2 |  | 1>\n",
      "<Node HanoiState: 5 4 3 | 2 | 1>\n",
      "<Node HanoiState: 5 4 3 | 2 1 | >\n",
      "<Node HanoiState: 5 4 | 2 1 | 3>\n",
      "<Node HanoiState: 5 4 1 | 2 | 3>\n",
      "<Node HanoiState: 5 4 1 |  | 3 2>\n",
      "<Node HanoiState: 5 4 |  | 3 2 1>\n",
      "<Node HanoiState: 5 | 4 | 3 2 1>\n",
      "<Node HanoiState: 5 | 4 1 | 3 2>\n",
      "<Node HanoiState: 5 2 | 4 1 | 3>\n",
      "<Node HanoiState: 5 2 1 | 4 | 3>\n",
      "<Node HanoiState: 5 2 1 | 4 3 | >\n",
      "<Node HanoiState: 5 2 | 4 3 | 1>\n",
      "<Node HanoiState: 5 | 4 3 2 | 1>\n",
      "<Node HanoiState: 5 | 4 3 2 1 | >\n",
      "<Node HanoiState:  | 4 3 2 1 | 5>\n",
      "<Node HanoiState: 1 | 4 3 2 | 5>\n",
      "<Node HanoiState: 1 | 4 3 | 5 2>\n",
      "<Node HanoiState:  | 4 3 | 5 2 1>\n",
      "<Node HanoiState: 3 | 4 | 5 2 1>\n",
      "<Node HanoiState: 3 | 4 1 | 5 2>\n",
      "<Node HanoiState: 3 2 | 4 1 | 5>\n",
      "<Node HanoiState: 3 2 1 | 4 | 5>\n",
      "<Node HanoiState: 3 2 1 |  | 5 4>\n",
      "<Node HanoiState: 3 2 |  | 5 4 1>\n",
      "<Node HanoiState: 3 | 2 | 5 4 1>\n",
      "<Node HanoiState: 3 | 2 1 | 5 4>\n",
      "<Node HanoiState:  | 2 1 | 5 4 3>\n",
      "<Node HanoiState: 1 | 2 | 5 4 3>\n",
      "<Node HanoiState: 1 |  | 5 4 3 2>\n",
      "<Node HanoiState:  |  | 5 4 3 2 1>\n"
     ]
    }
   ],
   "source": [
    "for nodos in solution_anchura.path():\n",
    "    print(nodos)"
   ]
  },
  {
   "cell_type": "code",
   "execution_count": 16,
   "metadata": {},
   "outputs": [
    {
     "name": "stdout",
     "output_type": "stream",
     "text": [
      "Move disk 1 from 1 to 3\n",
      "Move disk 2 from 1 to 2\n",
      "Move disk 1 from 3 to 2\n",
      "Move disk 3 from 1 to 3\n",
      "Move disk 1 from 2 to 1\n",
      "Move disk 2 from 2 to 3\n",
      "Move disk 1 from 1 to 3\n",
      "Move disk 4 from 1 to 2\n",
      "Move disk 1 from 3 to 2\n",
      "Move disk 2 from 3 to 1\n",
      "Move disk 1 from 2 to 1\n",
      "Move disk 3 from 3 to 2\n",
      "Move disk 1 from 1 to 3\n",
      "Move disk 2 from 1 to 2\n",
      "Move disk 1 from 3 to 2\n",
      "Move disk 5 from 1 to 3\n",
      "Move disk 1 from 2 to 1\n",
      "Move disk 2 from 2 to 3\n",
      "Move disk 1 from 1 to 3\n",
      "Move disk 3 from 2 to 1\n",
      "Move disk 1 from 3 to 2\n",
      "Move disk 2 from 3 to 1\n",
      "Move disk 1 from 2 to 1\n",
      "Move disk 4 from 2 to 3\n",
      "Move disk 1 from 1 to 3\n",
      "Move disk 2 from 1 to 2\n",
      "Move disk 1 from 3 to 2\n",
      "Move disk 3 from 1 to 3\n",
      "Move disk 1 from 2 to 1\n",
      "Move disk 2 from 2 to 3\n",
      "Move disk 1 from 1 to 3\n"
     ]
    }
   ],
   "source": [
    "for act in solution_anchura.solution():\n",
    "    print(act)"
   ]
  },
  {
   "cell_type": "code",
   "execution_count": 17,
   "metadata": {},
   "outputs": [
    {
     "name": "stdout",
     "output_type": "stream",
     "text": [
      "<Node HanoiState: 5 4 3 2 1 |  | >\n",
      "<Node HanoiState: 5 4 3 2 |  | 1>\n",
      "<Node HanoiState: 5 4 3 2 | 1 | >\n",
      "<Node HanoiState: 5 4 3 | 1 | 2>\n",
      "<Node HanoiState: 5 4 3 |  | 2 1>\n",
      "<Node HanoiState: 5 4 3 1 |  | 2>\n",
      "<Node HanoiState: 5 4 3 1 | 2 | >\n",
      "<Node HanoiState: 5 4 3 | 2 | 1>\n",
      "<Node HanoiState: 5 4 3 | 2 1 | >\n",
      "<Node HanoiState: 5 4 | 2 1 | 3>\n",
      "<Node HanoiState: 5 4 | 2 | 3 1>\n",
      "<Node HanoiState: 5 4 1 | 2 | 3>\n",
      "<Node HanoiState: 5 4 1 |  | 3 2>\n",
      "<Node HanoiState: 5 4 |  | 3 2 1>\n",
      "<Node HanoiState: 5 4 | 1 | 3 2>\n",
      "<Node HanoiState: 5 4 2 | 1 | 3>\n",
      "<Node HanoiState: 5 4 2 |  | 3 1>\n",
      "<Node HanoiState: 5 4 2 1 |  | 3>\n",
      "<Node HanoiState: 5 4 2 1 | 3 | >\n",
      "<Node HanoiState: 5 4 2 | 3 | 1>\n",
      "<Node HanoiState: 5 4 2 | 3 1 | >\n",
      "<Node HanoiState: 5 4 | 3 1 | 2>\n",
      "<Node HanoiState: 5 4 | 3 | 2 1>\n",
      "<Node HanoiState: 5 4 1 | 3 | 2>\n",
      "<Node HanoiState: 5 4 1 | 3 2 | >\n",
      "<Node HanoiState: 5 4 | 3 2 | 1>\n",
      "<Node HanoiState: 5 4 | 3 2 1 | >\n",
      "<Node HanoiState: 5 | 3 2 1 | 4>\n",
      "<Node HanoiState: 5 | 3 2 | 4 1>\n",
      "<Node HanoiState: 5 1 | 3 2 | 4>\n",
      "<Node HanoiState: 5 1 | 3 | 4 2>\n",
      "<Node HanoiState: 5 | 3 | 4 2 1>\n",
      "<Node HanoiState: 5 | 3 1 | 4 2>\n",
      "<Node HanoiState: 5 2 | 3 1 | 4>\n",
      "<Node HanoiState: 5 2 | 3 | 4 1>\n",
      "<Node HanoiState: 5 2 1 | 3 | 4>\n",
      "<Node HanoiState: 5 2 1 |  | 4 3>\n",
      "<Node HanoiState: 5 2 |  | 4 3 1>\n",
      "<Node HanoiState: 5 2 | 1 | 4 3>\n",
      "<Node HanoiState: 5 | 1 | 4 3 2>\n",
      "<Node HanoiState: 5 |  | 4 3 2 1>\n",
      "<Node HanoiState: 5 1 |  | 4 3 2>\n",
      "<Node HanoiState: 5 1 | 2 | 4 3>\n",
      "<Node HanoiState: 5 | 2 | 4 3 1>\n",
      "<Node HanoiState: 5 | 2 1 | 4 3>\n",
      "<Node HanoiState: 5 3 | 2 1 | 4>\n",
      "<Node HanoiState: 5 3 | 2 | 4 1>\n",
      "<Node HanoiState: 5 3 1 | 2 | 4>\n",
      "<Node HanoiState: 5 3 1 |  | 4 2>\n",
      "<Node HanoiState: 5 3 |  | 4 2 1>\n",
      "<Node HanoiState: 5 3 | 1 | 4 2>\n",
      "<Node HanoiState: 5 3 2 | 1 | 4>\n",
      "<Node HanoiState: 5 3 2 |  | 4 1>\n",
      "<Node HanoiState: 5 3 2 1 |  | 4>\n",
      "<Node HanoiState: 5 3 2 1 | 4 | >\n",
      "<Node HanoiState: 5 3 2 | 4 | 1>\n",
      "<Node HanoiState: 5 3 2 | 4 1 | >\n",
      "<Node HanoiState: 5 3 | 4 1 | 2>\n",
      "<Node HanoiState: 5 3 | 4 | 2 1>\n",
      "<Node HanoiState: 5 3 1 | 4 | 2>\n",
      "<Node HanoiState: 5 3 1 | 4 2 | >\n",
      "<Node HanoiState: 5 3 | 4 2 | 1>\n",
      "<Node HanoiState: 5 3 | 4 2 1 | >\n",
      "<Node HanoiState: 5 | 4 2 1 | 3>\n",
      "<Node HanoiState: 5 | 4 2 | 3 1>\n",
      "<Node HanoiState: 5 1 | 4 2 | 3>\n",
      "<Node HanoiState: 5 1 | 4 | 3 2>\n",
      "<Node HanoiState: 5 | 4 | 3 2 1>\n",
      "<Node HanoiState: 5 | 4 1 | 3 2>\n",
      "<Node HanoiState: 5 2 | 4 1 | 3>\n",
      "<Node HanoiState: 5 2 | 4 | 3 1>\n",
      "<Node HanoiState: 5 2 1 | 4 | 3>\n",
      "<Node HanoiState: 5 2 1 | 4 3 | >\n",
      "<Node HanoiState: 5 2 | 4 3 | 1>\n",
      "<Node HanoiState: 5 2 | 4 3 1 | >\n",
      "<Node HanoiState: 5 | 4 3 1 | 2>\n",
      "<Node HanoiState: 5 | 4 3 | 2 1>\n",
      "<Node HanoiState: 5 1 | 4 3 | 2>\n",
      "<Node HanoiState: 5 1 | 4 3 2 | >\n",
      "<Node HanoiState: 5 | 4 3 2 | 1>\n",
      "<Node HanoiState: 5 | 4 3 2 1 | >\n",
      "<Node HanoiState:  | 4 3 2 1 | 5>\n",
      "<Node HanoiState:  | 4 3 2 | 5 1>\n",
      "<Node HanoiState: 1 | 4 3 2 | 5>\n",
      "<Node HanoiState: 1 | 4 3 | 5 2>\n",
      "<Node HanoiState:  | 4 3 | 5 2 1>\n",
      "<Node HanoiState:  | 4 3 1 | 5 2>\n",
      "<Node HanoiState: 2 | 4 3 1 | 5>\n",
      "<Node HanoiState: 2 | 4 3 | 5 1>\n",
      "<Node HanoiState: 2 1 | 4 3 | 5>\n",
      "<Node HanoiState: 2 1 | 4 | 5 3>\n",
      "<Node HanoiState: 2 | 4 | 5 3 1>\n",
      "<Node HanoiState: 2 | 4 1 | 5 3>\n",
      "<Node HanoiState:  | 4 1 | 5 3 2>\n",
      "<Node HanoiState:  | 4 | 5 3 2 1>\n",
      "<Node HanoiState: 1 | 4 | 5 3 2>\n",
      "<Node HanoiState: 1 | 4 2 | 5 3>\n",
      "<Node HanoiState:  | 4 2 | 5 3 1>\n",
      "<Node HanoiState:  | 4 2 1 | 5 3>\n",
      "<Node HanoiState: 3 | 4 2 1 | 5>\n",
      "<Node HanoiState: 3 | 4 2 | 5 1>\n",
      "<Node HanoiState: 3 1 | 4 2 | 5>\n",
      "<Node HanoiState: 3 1 | 4 | 5 2>\n",
      "<Node HanoiState: 3 | 4 | 5 2 1>\n",
      "<Node HanoiState: 3 | 4 1 | 5 2>\n",
      "<Node HanoiState: 3 2 | 4 1 | 5>\n",
      "<Node HanoiState: 3 2 | 4 | 5 1>\n",
      "<Node HanoiState: 3 2 1 | 4 | 5>\n",
      "<Node HanoiState: 3 2 1 |  | 5 4>\n",
      "<Node HanoiState: 3 2 |  | 5 4 1>\n",
      "<Node HanoiState: 3 2 | 1 | 5 4>\n",
      "<Node HanoiState: 3 | 1 | 5 4 2>\n",
      "<Node HanoiState: 3 |  | 5 4 2 1>\n",
      "<Node HanoiState: 3 1 |  | 5 4 2>\n",
      "<Node HanoiState: 3 1 | 2 | 5 4>\n",
      "<Node HanoiState: 3 | 2 | 5 4 1>\n",
      "<Node HanoiState: 3 | 2 1 | 5 4>\n",
      "<Node HanoiState:  | 2 1 | 5 4 3>\n",
      "<Node HanoiState:  | 2 | 5 4 3 1>\n",
      "<Node HanoiState: 1 | 2 | 5 4 3>\n",
      "<Node HanoiState: 1 |  | 5 4 3 2>\n",
      "<Node HanoiState:  |  | 5 4 3 2 1>\n"
     ]
    }
   ],
   "source": [
    "for nodos in solution_prof.path():\n",
    "    print(nodos)"
   ]
  },
  {
   "cell_type": "code",
   "execution_count": 18,
   "metadata": {},
   "outputs": [
    {
     "name": "stdout",
     "output_type": "stream",
     "text": [
      "Move disk 1 from 1 to 3\n",
      "Move disk 1 from 3 to 2\n",
      "Move disk 2 from 1 to 3\n",
      "Move disk 1 from 2 to 3\n",
      "Move disk 1 from 3 to 1\n",
      "Move disk 2 from 3 to 2\n",
      "Move disk 1 from 1 to 3\n",
      "Move disk 1 from 3 to 2\n",
      "Move disk 3 from 1 to 3\n",
      "Move disk 1 from 2 to 3\n",
      "Move disk 1 from 3 to 1\n",
      "Move disk 2 from 2 to 3\n",
      "Move disk 1 from 1 to 3\n",
      "Move disk 1 from 3 to 2\n",
      "Move disk 2 from 3 to 1\n",
      "Move disk 1 from 2 to 3\n",
      "Move disk 1 from 3 to 1\n",
      "Move disk 3 from 3 to 2\n",
      "Move disk 1 from 1 to 3\n",
      "Move disk 1 from 3 to 2\n",
      "Move disk 2 from 1 to 3\n",
      "Move disk 1 from 2 to 3\n",
      "Move disk 1 from 3 to 1\n",
      "Move disk 2 from 3 to 2\n",
      "Move disk 1 from 1 to 3\n",
      "Move disk 1 from 3 to 2\n",
      "Move disk 4 from 1 to 3\n",
      "Move disk 1 from 2 to 3\n",
      "Move disk 1 from 3 to 1\n",
      "Move disk 2 from 2 to 3\n",
      "Move disk 1 from 1 to 3\n",
      "Move disk 1 from 3 to 2\n",
      "Move disk 2 from 3 to 1\n",
      "Move disk 1 from 2 to 3\n",
      "Move disk 1 from 3 to 1\n",
      "Move disk 3 from 2 to 3\n",
      "Move disk 1 from 1 to 3\n",
      "Move disk 1 from 3 to 2\n",
      "Move disk 2 from 1 to 3\n",
      "Move disk 1 from 2 to 3\n",
      "Move disk 1 from 3 to 1\n",
      "Move disk 2 from 3 to 2\n",
      "Move disk 1 from 1 to 3\n",
      "Move disk 1 from 3 to 2\n",
      "Move disk 3 from 3 to 1\n",
      "Move disk 1 from 2 to 3\n",
      "Move disk 1 from 3 to 1\n",
      "Move disk 2 from 2 to 3\n",
      "Move disk 1 from 1 to 3\n",
      "Move disk 1 from 3 to 2\n",
      "Move disk 2 from 3 to 1\n",
      "Move disk 1 from 2 to 3\n",
      "Move disk 1 from 3 to 1\n",
      "Move disk 4 from 3 to 2\n",
      "Move disk 1 from 1 to 3\n",
      "Move disk 1 from 3 to 2\n",
      "Move disk 2 from 1 to 3\n",
      "Move disk 1 from 2 to 3\n",
      "Move disk 1 from 3 to 1\n",
      "Move disk 2 from 3 to 2\n",
      "Move disk 1 from 1 to 3\n",
      "Move disk 1 from 3 to 2\n",
      "Move disk 3 from 1 to 3\n",
      "Move disk 1 from 2 to 3\n",
      "Move disk 1 from 3 to 1\n",
      "Move disk 2 from 2 to 3\n",
      "Move disk 1 from 1 to 3\n",
      "Move disk 1 from 3 to 2\n",
      "Move disk 2 from 3 to 1\n",
      "Move disk 1 from 2 to 3\n",
      "Move disk 1 from 3 to 1\n",
      "Move disk 3 from 3 to 2\n",
      "Move disk 1 from 1 to 3\n",
      "Move disk 1 from 3 to 2\n",
      "Move disk 2 from 1 to 3\n",
      "Move disk 1 from 2 to 3\n",
      "Move disk 1 from 3 to 1\n",
      "Move disk 2 from 3 to 2\n",
      "Move disk 1 from 1 to 3\n",
      "Move disk 1 from 3 to 2\n",
      "Move disk 5 from 1 to 3\n",
      "Move disk 1 from 2 to 3\n",
      "Move disk 1 from 3 to 1\n",
      "Move disk 2 from 2 to 3\n",
      "Move disk 1 from 1 to 3\n",
      "Move disk 1 from 3 to 2\n",
      "Move disk 2 from 3 to 1\n",
      "Move disk 1 from 2 to 3\n",
      "Move disk 1 from 3 to 1\n",
      "Move disk 3 from 2 to 3\n",
      "Move disk 1 from 1 to 3\n",
      "Move disk 1 from 3 to 2\n",
      "Move disk 2 from 1 to 3\n",
      "Move disk 1 from 2 to 3\n",
      "Move disk 1 from 3 to 1\n",
      "Move disk 2 from 3 to 2\n",
      "Move disk 1 from 1 to 3\n",
      "Move disk 1 from 3 to 2\n",
      "Move disk 3 from 3 to 1\n",
      "Move disk 1 from 2 to 3\n",
      "Move disk 1 from 3 to 1\n",
      "Move disk 2 from 2 to 3\n",
      "Move disk 1 from 1 to 3\n",
      "Move disk 1 from 3 to 2\n",
      "Move disk 2 from 3 to 1\n",
      "Move disk 1 from 2 to 3\n",
      "Move disk 1 from 3 to 1\n",
      "Move disk 4 from 2 to 3\n",
      "Move disk 1 from 1 to 3\n",
      "Move disk 1 from 3 to 2\n",
      "Move disk 2 from 1 to 3\n",
      "Move disk 1 from 2 to 3\n",
      "Move disk 1 from 3 to 1\n",
      "Move disk 2 from 3 to 2\n",
      "Move disk 1 from 1 to 3\n",
      "Move disk 1 from 3 to 2\n",
      "Move disk 3 from 1 to 3\n",
      "Move disk 1 from 2 to 3\n",
      "Move disk 1 from 3 to 1\n",
      "Move disk 2 from 2 to 3\n",
      "Move disk 1 from 1 to 3\n"
     ]
    }
   ],
   "source": [
    "for act in solution_prof.solution():\n",
    "    print(act)"
   ]
  },
  {
   "cell_type": "code",
   "execution_count": 19,
   "metadata": {},
   "outputs": [
    {
     "name": "stdout",
     "output_type": "stream",
     "text": [
      "<Node HanoiState: 5 4 3 2 1 |  | >\n",
      "<Node HanoiState: 5 4 3 2 |  | 1>\n",
      "<Node HanoiState: 5 4 3 | 2 | 1>\n",
      "<Node HanoiState: 5 4 3 | 2 1 | >\n",
      "<Node HanoiState: 5 4 | 2 1 | 3>\n",
      "<Node HanoiState: 5 4 | 2 | 3 1>\n",
      "<Node HanoiState: 5 4 2 |  | 3 1>\n",
      "<Node HanoiState: 5 4 2 | 1 | 3>\n",
      "<Node HanoiState: 5 4 | 1 | 3 2>\n",
      "<Node HanoiState: 5 4 |  | 3 2 1>\n",
      "<Node HanoiState: 5 | 4 | 3 2 1>\n",
      "<Node HanoiState: 5 | 4 1 | 3 2>\n",
      "<Node HanoiState: 5 2 | 4 1 | 3>\n",
      "<Node HanoiState: 5 2 | 4 | 3 1>\n",
      "<Node HanoiState: 5 | 4 2 | 3 1>\n",
      "<Node HanoiState: 5 | 4 2 1 | 3>\n",
      "<Node HanoiState: 5 3 | 4 2 1 | >\n",
      "<Node HanoiState: 5 3 | 4 2 | 1>\n",
      "<Node HanoiState: 5 3 2 | 4 | 1>\n",
      "<Node HanoiState: 5 3 2 | 4 1 | >\n",
      "<Node HanoiState: 5 3 | 4 1 | 2>\n",
      "<Node HanoiState: 5 3 | 4 | 2 1>\n",
      "<Node HanoiState: 5 | 4 3 | 2 1>\n",
      "<Node HanoiState: 5 | 4 3 1 | 2>\n",
      "<Node HanoiState: 5 2 | 4 3 1 | >\n",
      "<Node HanoiState: 5 2 | 4 3 | 1>\n",
      "<Node HanoiState: 5 | 4 3 2 | 1>\n",
      "<Node HanoiState: 5 | 4 3 2 1 | >\n",
      "<Node HanoiState:  | 4 3 2 1 | 5>\n",
      "<Node HanoiState:  | 4 3 2 | 5 1>\n",
      "<Node HanoiState: 2 | 4 3 | 5 1>\n",
      "<Node HanoiState: 2 | 4 3 1 | 5>\n",
      "<Node HanoiState:  | 4 3 1 | 5 2>\n",
      "<Node HanoiState:  | 4 3 | 5 2 1>\n",
      "<Node HanoiState: 3 | 4 | 5 2 1>\n",
      "<Node HanoiState: 3 | 4 1 | 5 2>\n",
      "<Node HanoiState: 3 2 | 4 1 | 5>\n",
      "<Node HanoiState: 3 2 | 4 | 5 1>\n",
      "<Node HanoiState: 3 | 4 2 | 5 1>\n",
      "<Node HanoiState: 3 | 4 2 1 | 5>\n",
      "<Node HanoiState:  | 4 2 1 | 5 3>\n",
      "<Node HanoiState:  | 4 2 | 5 3 1>\n",
      "<Node HanoiState: 2 | 4 | 5 3 1>\n",
      "<Node HanoiState: 2 | 4 1 | 5 3>\n",
      "<Node HanoiState:  | 4 1 | 5 3 2>\n",
      "<Node HanoiState:  | 4 | 5 3 2 1>\n",
      "<Node HanoiState: 4 |  | 5 3 2 1>\n",
      "<Node HanoiState: 4 | 1 | 5 3 2>\n",
      "<Node HanoiState: 4 2 | 1 | 5 3>\n",
      "<Node HanoiState: 4 2 |  | 5 3 1>\n",
      "<Node HanoiState: 4 | 2 | 5 3 1>\n",
      "<Node HanoiState: 4 | 2 1 | 5 3>\n",
      "<Node HanoiState: 4 3 | 2 1 | 5>\n",
      "<Node HanoiState: 4 3 | 2 | 5 1>\n",
      "<Node HanoiState: 4 3 2 |  | 5 1>\n",
      "<Node HanoiState: 4 3 2 | 1 | 5>\n",
      "<Node HanoiState: 4 3 | 1 | 5 2>\n",
      "<Node HanoiState: 4 3 |  | 5 2 1>\n",
      "<Node HanoiState: 4 | 3 | 5 2 1>\n",
      "<Node HanoiState: 4 | 3 1 | 5 2>\n",
      "<Node HanoiState: 4 2 | 3 1 | 5>\n",
      "<Node HanoiState: 4 2 | 3 | 5 1>\n",
      "<Node HanoiState: 4 | 3 2 | 5 1>\n",
      "<Node HanoiState: 4 | 3 2 1 | 5>\n",
      "<Node HanoiState:  | 3 2 1 | 5 4>\n",
      "<Node HanoiState:  | 3 2 | 5 4 1>\n",
      "<Node HanoiState: 2 | 3 | 5 4 1>\n",
      "<Node HanoiState: 2 | 3 1 | 5 4>\n",
      "<Node HanoiState:  | 3 1 | 5 4 2>\n",
      "<Node HanoiState:  | 3 | 5 4 2 1>\n",
      "<Node HanoiState: 3 |  | 5 4 2 1>\n",
      "<Node HanoiState: 3 | 1 | 5 4 2>\n",
      "<Node HanoiState: 3 2 | 1 | 5 4>\n",
      "<Node HanoiState: 3 2 |  | 5 4 1>\n",
      "<Node HanoiState: 3 | 2 | 5 4 1>\n",
      "<Node HanoiState: 3 | 2 1 | 5 4>\n",
      "<Node HanoiState:  | 2 1 | 5 4 3>\n",
      "<Node HanoiState:  | 2 | 5 4 3 1>\n",
      "<Node HanoiState: 2 |  | 5 4 3 1>\n",
      "<Node HanoiState: 2 | 1 | 5 4 3>\n",
      "<Node HanoiState:  | 1 | 5 4 3 2>\n",
      "<Node HanoiState:  |  | 5 4 3 2 1>\n"
     ]
    }
   ],
   "source": [
    "for nodos in solution_prof_smart.path():\n",
    "    print(nodos)"
   ]
  },
  {
   "cell_type": "code",
   "execution_count": 20,
   "metadata": {},
   "outputs": [
    {
     "name": "stdout",
     "output_type": "stream",
     "text": [
      "Move disk 1 from 1 to 3\n",
      "Move disk 2 from 1 to 2\n",
      "Move disk 1 from 3 to 2\n",
      "Move disk 3 from 1 to 3\n",
      "Move disk 1 from 2 to 3\n",
      "Move disk 2 from 2 to 1\n",
      "Move disk 1 from 3 to 2\n",
      "Move disk 2 from 1 to 3\n",
      "Move disk 1 from 2 to 3\n",
      "Move disk 4 from 1 to 2\n",
      "Move disk 1 from 3 to 2\n",
      "Move disk 2 from 3 to 1\n",
      "Move disk 1 from 2 to 3\n",
      "Move disk 2 from 1 to 2\n",
      "Move disk 1 from 3 to 2\n",
      "Move disk 3 from 3 to 1\n",
      "Move disk 1 from 2 to 3\n",
      "Move disk 2 from 2 to 1\n",
      "Move disk 1 from 3 to 2\n",
      "Move disk 2 from 1 to 3\n",
      "Move disk 1 from 2 to 3\n",
      "Move disk 3 from 1 to 2\n",
      "Move disk 1 from 3 to 2\n",
      "Move disk 2 from 3 to 1\n",
      "Move disk 1 from 2 to 3\n",
      "Move disk 2 from 1 to 2\n",
      "Move disk 1 from 3 to 2\n",
      "Move disk 5 from 1 to 3\n",
      "Move disk 1 from 2 to 3\n",
      "Move disk 2 from 2 to 1\n",
      "Move disk 1 from 3 to 2\n",
      "Move disk 2 from 1 to 3\n",
      "Move disk 1 from 2 to 3\n",
      "Move disk 3 from 2 to 1\n",
      "Move disk 1 from 3 to 2\n",
      "Move disk 2 from 3 to 1\n",
      "Move disk 1 from 2 to 3\n",
      "Move disk 2 from 1 to 2\n",
      "Move disk 1 from 3 to 2\n",
      "Move disk 3 from 1 to 3\n",
      "Move disk 1 from 2 to 3\n",
      "Move disk 2 from 2 to 1\n",
      "Move disk 1 from 3 to 2\n",
      "Move disk 2 from 1 to 3\n",
      "Move disk 1 from 2 to 3\n",
      "Move disk 4 from 2 to 1\n",
      "Move disk 1 from 3 to 2\n",
      "Move disk 2 from 3 to 1\n",
      "Move disk 1 from 2 to 3\n",
      "Move disk 2 from 1 to 2\n",
      "Move disk 1 from 3 to 2\n",
      "Move disk 3 from 3 to 1\n",
      "Move disk 1 from 2 to 3\n",
      "Move disk 2 from 2 to 1\n",
      "Move disk 1 from 3 to 2\n",
      "Move disk 2 from 1 to 3\n",
      "Move disk 1 from 2 to 3\n",
      "Move disk 3 from 1 to 2\n",
      "Move disk 1 from 3 to 2\n",
      "Move disk 2 from 3 to 1\n",
      "Move disk 1 from 2 to 3\n",
      "Move disk 2 from 1 to 2\n",
      "Move disk 1 from 3 to 2\n",
      "Move disk 4 from 1 to 3\n",
      "Move disk 1 from 2 to 3\n",
      "Move disk 2 from 2 to 1\n",
      "Move disk 1 from 3 to 2\n",
      "Move disk 2 from 1 to 3\n",
      "Move disk 1 from 2 to 3\n",
      "Move disk 3 from 2 to 1\n",
      "Move disk 1 from 3 to 2\n",
      "Move disk 2 from 3 to 1\n",
      "Move disk 1 from 2 to 3\n",
      "Move disk 2 from 1 to 2\n",
      "Move disk 1 from 3 to 2\n",
      "Move disk 3 from 1 to 3\n",
      "Move disk 1 from 2 to 3\n",
      "Move disk 2 from 2 to 1\n",
      "Move disk 1 from 3 to 2\n",
      "Move disk 2 from 1 to 3\n",
      "Move disk 1 from 2 to 3\n"
     ]
    }
   ],
   "source": [
    "for act in solution_prof_smart.solution():\n",
    "    print(act)"
   ]
  },
  {
   "cell_type": "code",
   "execution_count": 21,
   "metadata": {},
   "outputs": [
    {
     "name": "stdout",
     "output_type": "stream",
     "text": [
      "<Node HanoiState: 5 4 3 2 1 |  | >\n",
      "<Node HanoiState: 5 4 3 2 |  | 1>\n",
      "<Node HanoiState: 5 4 3 | 2 | 1>\n",
      "<Node HanoiState: 5 4 3 | 2 1 | >\n",
      "<Node HanoiState: 5 4 | 2 1 | 3>\n",
      "<Node HanoiState: 5 4 1 | 2 | 3>\n",
      "<Node HanoiState: 5 4 1 |  | 3 2>\n",
      "<Node HanoiState: 5 4 |  | 3 2 1>\n",
      "<Node HanoiState: 5 | 4 | 3 2 1>\n",
      "<Node HanoiState: 5 | 4 1 | 3 2>\n",
      "<Node HanoiState: 5 2 | 4 1 | 3>\n",
      "<Node HanoiState: 5 2 1 | 4 | 3>\n",
      "<Node HanoiState: 5 2 1 | 4 3 | >\n",
      "<Node HanoiState: 5 2 | 4 3 | 1>\n",
      "<Node HanoiState: 5 | 4 3 2 | 1>\n",
      "<Node HanoiState: 5 | 4 3 2 1 | >\n",
      "<Node HanoiState:  | 4 3 2 1 | 5>\n",
      "<Node HanoiState: 1 | 4 3 2 | 5>\n",
      "<Node HanoiState: 1 | 4 3 | 5 2>\n",
      "<Node HanoiState:  | 4 3 | 5 2 1>\n",
      "<Node HanoiState: 3 | 4 | 5 2 1>\n",
      "<Node HanoiState: 3 | 4 1 | 5 2>\n",
      "<Node HanoiState: 3 2 | 4 1 | 5>\n",
      "<Node HanoiState: 3 2 1 | 4 | 5>\n",
      "<Node HanoiState: 3 2 1 |  | 5 4>\n",
      "<Node HanoiState: 3 2 |  | 5 4 1>\n",
      "<Node HanoiState: 3 | 2 | 5 4 1>\n",
      "<Node HanoiState: 3 | 2 1 | 5 4>\n",
      "<Node HanoiState:  | 2 1 | 5 4 3>\n",
      "<Node HanoiState: 1 | 2 | 5 4 3>\n",
      "<Node HanoiState: 1 |  | 5 4 3 2>\n",
      "<Node HanoiState:  |  | 5 4 3 2 1>\n"
     ]
    }
   ],
   "source": [
    "for nodos in solution_greedy.path():\n",
    "    print(nodos)"
   ]
  },
  {
   "cell_type": "code",
   "execution_count": 22,
   "metadata": {},
   "outputs": [
    {
     "name": "stdout",
     "output_type": "stream",
     "text": [
      "Move disk 1 from 1 to 3\n",
      "Move disk 2 from 1 to 2\n",
      "Move disk 1 from 3 to 2\n",
      "Move disk 3 from 1 to 3\n",
      "Move disk 1 from 2 to 1\n",
      "Move disk 2 from 2 to 3\n",
      "Move disk 1 from 1 to 3\n",
      "Move disk 4 from 1 to 2\n",
      "Move disk 1 from 3 to 2\n",
      "Move disk 2 from 3 to 1\n",
      "Move disk 1 from 2 to 1\n",
      "Move disk 3 from 3 to 2\n",
      "Move disk 1 from 1 to 3\n",
      "Move disk 2 from 1 to 2\n",
      "Move disk 1 from 3 to 2\n",
      "Move disk 5 from 1 to 3\n",
      "Move disk 1 from 2 to 1\n",
      "Move disk 2 from 2 to 3\n",
      "Move disk 1 from 1 to 3\n",
      "Move disk 3 from 2 to 1\n",
      "Move disk 1 from 3 to 2\n",
      "Move disk 2 from 3 to 1\n",
      "Move disk 1 from 2 to 1\n",
      "Move disk 4 from 2 to 3\n",
      "Move disk 1 from 1 to 3\n",
      "Move disk 2 from 1 to 2\n",
      "Move disk 1 from 3 to 2\n",
      "Move disk 3 from 1 to 3\n",
      "Move disk 1 from 2 to 1\n",
      "Move disk 2 from 2 to 3\n",
      "Move disk 1 from 1 to 3\n"
     ]
    }
   ],
   "source": [
    "for act in solution_greedy.solution():\n",
    "    print(act)"
   ]
  },
  {
   "cell_type": "code",
   "execution_count": 23,
   "metadata": {},
   "outputs": [
    {
     "name": "stdout",
     "output_type": "stream",
     "text": [
      "<Node HanoiState: 5 4 3 2 1 |  | >\n",
      "<Node HanoiState: 5 4 3 2 |  | 1>\n",
      "<Node HanoiState: 5 4 3 | 2 | 1>\n",
      "<Node HanoiState: 5 4 3 | 2 1 | >\n",
      "<Node HanoiState: 5 4 | 2 1 | 3>\n",
      "<Node HanoiState: 5 4 1 | 2 | 3>\n",
      "<Node HanoiState: 5 4 1 |  | 3 2>\n",
      "<Node HanoiState: 5 4 |  | 3 2 1>\n",
      "<Node HanoiState: 5 | 4 | 3 2 1>\n",
      "<Node HanoiState: 5 | 4 1 | 3 2>\n",
      "<Node HanoiState: 5 2 | 4 1 | 3>\n",
      "<Node HanoiState: 5 2 1 | 4 | 3>\n",
      "<Node HanoiState: 5 2 1 | 4 3 | >\n",
      "<Node HanoiState: 5 2 | 4 3 | 1>\n",
      "<Node HanoiState: 5 | 4 3 2 | 1>\n",
      "<Node HanoiState: 5 | 4 3 2 1 | >\n",
      "<Node HanoiState:  | 4 3 2 1 | 5>\n",
      "<Node HanoiState: 1 | 4 3 2 | 5>\n",
      "<Node HanoiState: 1 | 4 3 | 5 2>\n",
      "<Node HanoiState:  | 4 3 | 5 2 1>\n",
      "<Node HanoiState: 3 | 4 | 5 2 1>\n",
      "<Node HanoiState: 3 | 4 1 | 5 2>\n",
      "<Node HanoiState: 3 2 | 4 1 | 5>\n",
      "<Node HanoiState: 3 2 1 | 4 | 5>\n",
      "<Node HanoiState: 3 2 1 |  | 5 4>\n",
      "<Node HanoiState: 3 2 |  | 5 4 1>\n",
      "<Node HanoiState: 3 | 2 | 5 4 1>\n",
      "<Node HanoiState: 3 | 2 1 | 5 4>\n",
      "<Node HanoiState:  | 2 1 | 5 4 3>\n",
      "<Node HanoiState: 1 | 2 | 5 4 3>\n",
      "<Node HanoiState: 1 |  | 5 4 3 2>\n",
      "<Node HanoiState:  |  | 5 4 3 2 1>\n"
     ]
    }
   ],
   "source": [
    "for nodos in solution_a_estrella.path():\n",
    "    print(nodos)"
   ]
  },
  {
   "cell_type": "code",
   "execution_count": 24,
   "metadata": {},
   "outputs": [
    {
     "name": "stdout",
     "output_type": "stream",
     "text": [
      "Move disk 1 from 1 to 3\n",
      "Move disk 2 from 1 to 2\n",
      "Move disk 1 from 3 to 2\n",
      "Move disk 3 from 1 to 3\n",
      "Move disk 1 from 2 to 1\n",
      "Move disk 2 from 2 to 3\n",
      "Move disk 1 from 1 to 3\n",
      "Move disk 4 from 1 to 2\n",
      "Move disk 1 from 3 to 2\n",
      "Move disk 2 from 3 to 1\n",
      "Move disk 1 from 2 to 1\n",
      "Move disk 3 from 3 to 2\n",
      "Move disk 1 from 1 to 3\n",
      "Move disk 2 from 1 to 2\n",
      "Move disk 1 from 3 to 2\n",
      "Move disk 5 from 1 to 3\n",
      "Move disk 1 from 2 to 1\n",
      "Move disk 2 from 2 to 3\n",
      "Move disk 1 from 1 to 3\n",
      "Move disk 3 from 2 to 1\n",
      "Move disk 1 from 3 to 2\n",
      "Move disk 2 from 3 to 1\n",
      "Move disk 1 from 2 to 1\n",
      "Move disk 4 from 2 to 3\n",
      "Move disk 1 from 1 to 3\n",
      "Move disk 2 from 1 to 2\n",
      "Move disk 1 from 3 to 2\n",
      "Move disk 3 from 1 to 3\n",
      "Move disk 1 from 2 to 1\n",
      "Move disk 2 from 2 to 3\n",
      "Move disk 1 from 1 to 3\n"
     ]
    }
   ],
   "source": [
    "for act in solution_a_estrella.solution():\n",
    "    print(act)"
   ]
  },
  {
   "cell_type": "markdown",
   "metadata": {},
   "source": [
    "## Evalución de tiempos de ejecución y memoria consumida"
   ]
  },
  {
   "cell_type": "markdown",
   "metadata": {},
   "source": [
    "### Anchura"
   ]
  },
  {
   "cell_type": "code",
   "execution_count": 25,
   "metadata": {},
   "outputs": [],
   "source": [
    "%load_ext memory_profiler"
   ]
  },
  {
   "cell_type": "code",
   "execution_count": 26,
   "metadata": {},
   "outputs": [
    {
     "name": "stdout",
     "output_type": "stream",
     "text": [
      "37.5 ms ± 170 μs per loop (mean ± std. dev. of 7 runs, 10 loops each)\n"
     ]
    }
   ],
   "source": [
    "%%timeit \n",
    "solution_anchura, metrics_anchura = breadth_first_search(number_disks=5)"
   ]
  },
  {
   "cell_type": "code",
   "execution_count": 27,
   "metadata": {},
   "outputs": [
    {
     "name": "stdout",
     "output_type": "stream",
     "text": [
      "peak memory: 74.81 MiB, increment: 0.92 MiB\n"
     ]
    }
   ],
   "source": [
    "%%memit\n",
    "solution_anchura, metrics_anchura = breadth_first_search(number_disks=5)"
   ]
  },
  {
   "cell_type": "markdown",
   "metadata": {},
   "source": [
    "### Búsqueda en profundidad"
   ]
  },
  {
   "cell_type": "code",
   "execution_count": 28,
   "metadata": {},
   "outputs": [
    {
     "name": "stdout",
     "output_type": "stream",
     "text": [
      "38.6 ms ± 372 μs per loop (mean ± std. dev. of 7 runs, 10 loops each)\n"
     ]
    }
   ],
   "source": [
    "%%timeit \n",
    "solution_prof, metrics_prof = breadth_first_search(number_disks=5)"
   ]
  },
  {
   "cell_type": "code",
   "execution_count": 29,
   "metadata": {},
   "outputs": [
    {
     "name": "stdout",
     "output_type": "stream",
     "text": [
      "peak memory: 74.83 MiB, increment: 0.00 MiB\n"
     ]
    }
   ],
   "source": [
    "%%memit\n",
    "solution_prof, metrics_prof = breadth_first_search(number_disks=5)"
   ]
  },
  {
   "cell_type": "markdown",
   "metadata": {},
   "source": [
    "### Se nota que al no contar con información que indique que pieza se movió previamente, el algoritmo registra movimientos innecesarios, alargando el árbol de solucion.\n",
    "Se buscará a continuación encontrar la pieza movida en el paso anterior, y si es diferente a la que el árbol sugiere mover, se procede, sino se saltea el paso."
   ]
  },
  {
   "cell_type": "markdown",
   "metadata": {},
   "source": [
    "### Búsqueda en profundidad Optimizado"
   ]
  },
  {
   "cell_type": "code",
   "execution_count": 30,
   "metadata": {},
   "outputs": [
    {
     "name": "stdout",
     "output_type": "stream",
     "text": [
      "2.34 ms ± 99.3 μs per loop (mean ± std. dev. of 7 runs, 100 loops each)\n"
     ]
    }
   ],
   "source": [
    "%%timeit \n",
    "solution_prof_smart, metrics_prof_smart = depth_first_search_smart(number_disks=5)"
   ]
  },
  {
   "cell_type": "code",
   "execution_count": 31,
   "metadata": {},
   "outputs": [
    {
     "name": "stdout",
     "output_type": "stream",
     "text": [
      "peak memory: 74.86 MiB, increment: 0.00 MiB\n"
     ]
    }
   ],
   "source": [
    "%%memit\n",
    "solution_prof_smart, metrics_prof_smart = depth_first_search_smart(number_disks=5)"
   ]
  },
  {
   "cell_type": "markdown",
   "metadata": {},
   "source": [
    "### Búsqueda Greedy"
   ]
  },
  {
   "cell_type": "code",
   "execution_count": 32,
   "metadata": {},
   "outputs": [
    {
     "name": "stdout",
     "output_type": "stream",
     "text": [
      "2.29 ms ± 28.8 μs per loop (mean ± std. dev. of 7 runs, 100 loops each)\n"
     ]
    }
   ],
   "source": [
    "%%timeit \n",
    "solution_greedy, metrics_greedy = depth_first_search_smart(number_disks=5)"
   ]
  },
  {
   "cell_type": "code",
   "execution_count": 33,
   "metadata": {},
   "outputs": [
    {
     "name": "stdout",
     "output_type": "stream",
     "text": [
      "peak memory: 74.86 MiB, increment: 0.00 MiB\n"
     ]
    }
   ],
   "source": [
    "%%memit\n",
    "solution_greedy, metrics_greedy = depth_first_search_smart(number_disks=5)"
   ]
  },
  {
   "cell_type": "markdown",
   "metadata": {},
   "source": [
    "### Búsqueda A*"
   ]
  },
  {
   "cell_type": "code",
   "execution_count": 34,
   "metadata": {},
   "outputs": [
    {
     "name": "stdout",
     "output_type": "stream",
     "text": [
      "2.25 ms ± 15.8 μs per loop (mean ± std. dev. of 7 runs, 100 loops each)\n"
     ]
    }
   ],
   "source": [
    "%%timeit \n",
    "solution_a_estrella, metrics_a_estrella = depth_first_search_smart(number_disks=5)"
   ]
  },
  {
   "cell_type": "code",
   "execution_count": 35,
   "metadata": {},
   "outputs": [
    {
     "name": "stdout",
     "output_type": "stream",
     "text": [
      "peak memory: 74.86 MiB, increment: 0.00 MiB\n"
     ]
    }
   ],
   "source": [
    "%%memit\n",
    "solution_a_estrella, metrics_a_estrella = depth_first_search_smart(number_disks=5)"
   ]
  },
  {
   "cell_type": "markdown",
   "metadata": {},
   "source": [
    "## SIMULADOR:\n",
    "A continuación generamos los json para poder correr el simulador"
   ]
  },
  {
   "cell_type": "code",
   "execution_count": 36,
   "metadata": {},
   "outputs": [],
   "source": [
    "#Breadth:\n",
    "solution_anchura.generate_solution_for_simulator(\"./sequence_breadth.json\")"
   ]
  },
  {
   "cell_type": "code",
   "execution_count": 37,
   "metadata": {},
   "outputs": [],
   "source": [
    "#Depth:\n",
    "solution_prof.generate_solution_for_simulator(\"./sequence_depth.json\")"
   ]
  },
  {
   "cell_type": "code",
   "execution_count": 38,
   "metadata": {},
   "outputs": [],
   "source": [
    "#Depth_Smart:\n",
    "solution_prof_smart.generate_solution_for_simulator(\"./sequence_depth_optimized.json\")"
   ]
  },
  {
   "cell_type": "code",
   "execution_count": 39,
   "metadata": {},
   "outputs": [],
   "source": [
    "#Gredy:\n",
    "solution_greedy.generate_solution_for_simulator(\"./sequence_greedy.json\")"
   ]
  },
  {
   "cell_type": "code",
   "execution_count": 40,
   "metadata": {},
   "outputs": [],
   "source": [
    "#A*:\n",
    "solution_a_estrella.generate_solution_for_simulator(\"./sequence_a_star.json\")"
   ]
  }
 ],
 "metadata": {
  "kernelspec": {
   "display_name": "Python (CEIA)",
   "language": "python",
   "name": "ceia-analisis-de-datos"
  },
  "language_info": {
   "codemirror_mode": {
    "name": "ipython",
    "version": 3
   },
   "file_extension": ".py",
   "mimetype": "text/x-python",
   "name": "python",
   "nbconvert_exporter": "python",
   "pygments_lexer": "ipython3",
   "version": "3.13.2"
  }
 },
 "nbformat": 4,
 "nbformat_minor": 2
}
