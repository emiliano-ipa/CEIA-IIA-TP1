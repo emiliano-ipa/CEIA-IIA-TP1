{
 "cells": [
  {
   "cell_type": "markdown",
   "metadata": {},
   "source": [
    "#CEIA - IIA - Trabajo Practico 1 - Torres de Hanoi\n",
    "\n",
    "##Grupo X - \n",
    "Miembros:\n",
    "  - Martin Brocca"
   ]
  },
  {
   "cell_type": "markdown",
   "metadata": {
    "vscode": {
     "languageId": "plaintext"
    }
   },
   "source": [
    "1. ¿Cuáles son los PEAS de este problema? (Performance, Environment, Actuators, Sensors)\n",
    "2. ¿Cuáles son las propiedades del entorno de trabajo?\n",
    "3. En el contexto de este problema, establezca cuáles son los: estado, espacio de estados, árbol de búsqueda, \n",
    "nodo de búsqueda, objetivo, acción y frontera.\n",
    "4. Implemente algún método de búsqueda. Puedes elegir cualquiera menos búsqueda en anchura primero (el desarrollado \n",
    "en clase). Sos libre de elegir cualquiera de los vistos en clases, o inclusive buscar nuevos.\n",
    "5. ¿Qué complejidad en tiempo y memoria tiene el algoritmo elegido? \n",
    "6. A nivel implementación, ¿qué tiempo y memoria ocupa el algoritmo? (Se recomienda correr 10 veces y calcular \n",
    "promedio y desvío estándar de las métricas).\n",
    "7. Si la solución óptima es $2^k - 1$ movimientos con *k* igual al número de discos. Qué tan lejos está la solución \n",
    "del algoritmo implementado de esta solución óptima (se recomienda correr al menos 10 veces y usar el promedio de \n",
    "trayecto usado). "
   ]
  }
 ],
 "metadata": {
  "language_info": {
   "name": "python"
  }
 },
 "nbformat": 4,
 "nbformat_minor": 2
}
